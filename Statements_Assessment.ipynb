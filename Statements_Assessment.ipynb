{
  "cells": [
    {
      "cell_type": "markdown",
      "metadata": {
        "id": "view-in-github",
        "colab_type": "text"
      },
      "source": [
        "<a href=\"https://colab.research.google.com/github/PinkyKashyap11/PinkyKashyap11/blob/main/Statements_Assessment.ipynb\" target=\"_parent\"><img src=\"https://colab.research.google.com/assets/colab-badge.svg\" alt=\"Open In Colab\"/></a>"
      ]
    },
    {
      "cell_type": "markdown",
      "metadata": {
        "id": "IRXZZpY1ymx1"
      },
      "source": [
        "___\n",
        "\n",
        "<a href='https://www.udemy.com/user/joseportilla/'><img src='../Pierian_Data_Logo.png'/></a>\n",
        "___\n",
        "<center><em>Content Copyright by Pierian Data</em></center>"
      ]
    },
    {
      "cell_type": "markdown",
      "metadata": {
        "collapsed": true,
        "id": "_Srafn8Vymx-"
      },
      "source": [
        "# Statements Assessment Test\n",
        "Let's test your knowledge!"
      ]
    },
    {
      "cell_type": "markdown",
      "metadata": {
        "id": "xBNSq6DSymx_"
      },
      "source": [
        "_____\n",
        "**Use <code>for</code>, .split(), and <code>if</code> to create a Statement that will print out words that start with 's':**"
      ]
    },
    {
      "cell_type": "code",
      "execution_count": null,
      "metadata": {
        "collapsed": true,
        "id": "tBahgnKlymyA"
      },
      "outputs": [],
      "source": [
        "st = 'Print only the words that start with s in this sentence'"
      ]
    },
    {
      "cell_type": "code",
      "execution_count": null,
      "metadata": {
        "collapsed": true,
        "id": "3Hok3FQwymyD"
      },
      "outputs": [],
      "source": [
        "count = 0\n",
        "x = st.split()\n",
        "for i in x:\n",
        "  if i[0] == 's':\n",
        "    count = count + 1\n",
        "print(\"no. of words start with s :   \", count)\n"
      ]
    },
    {
      "cell_type": "markdown",
      "metadata": {
        "id": "KKz9_Bu-ymyE"
      },
      "source": [
        "______\n",
        "**Use range() to print all the even numbers from 0 to 10.**"
      ]
    },
    {
      "cell_type": "code",
      "execution_count": null,
      "metadata": {
        "collapsed": true,
        "id": "amWK3_noymyF"
      },
      "outputs": [],
      "source": [
        "for i in range(1,11):\n",
        "  if i%2 == 0:\n",
        "    print(\"the no. is even\")\n",
        "  else:\n",
        "    print(\"the no. is odd\")\n",
        "\n"
      ]
    },
    {
      "cell_type": "markdown",
      "metadata": {
        "id": "2ht34bxdymyH"
      },
      "source": [
        "___\n",
        "**Use a List Comprehension to create a list of all numbers between 1 and 50 that are divisible by 3.**"
      ]
    },
    {
      "cell_type": "code",
      "execution_count": null,
      "metadata": {
        "collapsed": true,
        "id": "_WIObpEsymyJ"
      },
      "outputs": [],
      "source": [
        "list1 = []\n",
        "for i in range(1,51):\n",
        "  if i%3 == 0:\n",
        "    list1.append(i)\n",
        "print(list1)\n"
      ]
    },
    {
      "cell_type": "markdown",
      "metadata": {
        "id": "9jZGCmXkymyK"
      },
      "source": [
        "_____\n",
        "**Go through the string below and if the length of a word is even print \"even!\"**"
      ]
    },
    {
      "cell_type": "code",
      "execution_count": null,
      "metadata": {
        "collapsed": true,
        "id": "Sty3Ml_WymyL"
      },
      "outputs": [],
      "source": [
        "st = 'Print every word in this sentence that has an even number of letters'"
      ]
    },
    {
      "cell_type": "code",
      "execution_count": null,
      "metadata": {
        "collapsed": true,
        "id": "mClZ3IYGymyM"
      },
      "outputs": [],
      "source": [
        "x = st.split()\n",
        "count = 0\n",
        "for i in x:\n",
        "  if len(i)%2 == 0:\n",
        "    print(i) \n",
        "  count = count + 1"
      ]
    },
    {
      "cell_type": "markdown",
      "metadata": {
        "id": "Smz3zf29ymyN"
      },
      "source": [
        "____\n",
        "**Write a program that prints the integers from 1 to 100. But for multiples of three print \"Fizz\" instead of the number, and for the multiples of five print \"Buzz\". For numbers which are multiples of both three and five print \"FizzBuzz\".**"
      ]
    },
    {
      "cell_type": "code",
      "execution_count": null,
      "metadata": {
        "collapsed": true,
        "id": "6vFXHg-fymyO"
      },
      "outputs": [],
      "source": [
        "for i in range(1,101):\n",
        "  \n",
        "  if i%3 == 0 and i%5 == 0:\n",
        "    print(\"multiple of both 3 & 5:  \",i)\n",
        "    print(\"FizzBuzz\")\n",
        "\n",
        "  elif i%3 == 0:\n",
        "    print(\"multiple of three:  \", i,   \"Fizz\")\n",
        "    \n",
        "  elif i%5 == 0:\n",
        "    print(\"multiple of five:  \", i,             \"Buzz\")"
      ]
    },
    {
      "cell_type": "markdown",
      "metadata": {
        "id": "8OiDumlmymyO"
      },
      "source": [
        "____\n",
        "**Use List Comprehension to create a list of the first letters of every word in the string below:**"
      ]
    },
    {
      "cell_type": "code",
      "execution_count": null,
      "metadata": {
        "collapsed": true,
        "id": "NgWC4JzuymyP"
      },
      "outputs": [],
      "source": [
        "st = 'Create a list of the first letters of every word in this string'"
      ]
    },
    {
      "cell_type": "code",
      "execution_count": null,
      "metadata": {
        "collapsed": true,
        "id": "zpJ5Mt5HymyP"
      },
      "outputs": [],
      "source": [
        "list1 = []\n",
        "x = st.split()\n",
        "count = 0\n",
        "for i in x:\n",
        "  list1.append(i[0])\n",
        "  count = count + 1\n",
        "print(list1)\n"
      ]
    },
    {
      "cell_type": "markdown",
      "metadata": {
        "id": "0QQ6dDYaymyQ"
      },
      "source": [
        "### Great Job!"
      ]
    }
  ],
  "metadata": {
    "kernelspec": {
      "display_name": "Python 3",
      "language": "python",
      "name": "python3"
    },
    "language_info": {
      "codemirror_mode": {
        "name": "ipython",
        "version": 3
      },
      "file_extension": ".py",
      "mimetype": "text/x-python",
      "name": "python",
      "nbconvert_exporter": "python",
      "pygments_lexer": "ipython3",
      "version": "3.6.6"
    },
    "colab": {
      "name": "Statements Assessment.ipynb",
      "provenance": [],
      "include_colab_link": true
    }
  },
  "nbformat": 4,
  "nbformat_minor": 0
}